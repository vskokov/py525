{
  "nbformat": 4,
  "nbformat_minor": 0,
  "metadata": {
    "colab": {
      "name": "In Class: Random Numbers: generation and tests",
      "provenance": [],
      "collapsed_sections": [],
      "authorship_tag": "ABX9TyMgMsnMNzU2/RlKAmS5Shbz",
      "include_colab_link": true
    },
    "kernelspec": {
      "name": "python3",
      "display_name": "Python 3"
    },
    "widgets": {
      "application/vnd.jupyter.widget-state+json": {
        "e1e12fb090d243a49e9b04d98a71a323": {
          "model_module": "@jupyter-widgets/controls",
          "model_name": "HBoxModel",
          "model_module_version": "1.5.0",
          "state": {
            "_view_name": "HBoxView",
            "_dom_classes": [],
            "_model_name": "HBoxModel",
            "_view_module": "@jupyter-widgets/controls",
            "_model_module_version": "1.5.0",
            "_view_count": null,
            "_view_module_version": "1.5.0",
            "box_style": "",
            "layout": "IPY_MODEL_4e0d4863d52848698d805eaa855d4d04",
            "_model_module": "@jupyter-widgets/controls",
            "children": [
              "IPY_MODEL_59845876e4f74e3fbd19f1c44a4980d6",
              "IPY_MODEL_3a3acad10be44f5bb6e34e65b8379e3c",
              "IPY_MODEL_97ecbf4aff244d758ee6eeb91b13a435"
            ]
          }
        },
        "4e0d4863d52848698d805eaa855d4d04": {
          "model_module": "@jupyter-widgets/base",
          "model_name": "LayoutModel",
          "model_module_version": "1.2.0",
          "state": {
            "_view_name": "LayoutView",
            "grid_template_rows": null,
            "right": null,
            "justify_content": null,
            "_view_module": "@jupyter-widgets/base",
            "overflow": null,
            "_model_module_version": "1.2.0",
            "_view_count": null,
            "flex_flow": null,
            "width": null,
            "min_width": null,
            "border": null,
            "align_items": null,
            "bottom": null,
            "_model_module": "@jupyter-widgets/base",
            "top": null,
            "grid_column": null,
            "overflow_y": null,
            "overflow_x": null,
            "grid_auto_flow": null,
            "grid_area": null,
            "grid_template_columns": null,
            "flex": null,
            "_model_name": "LayoutModel",
            "justify_items": null,
            "grid_row": null,
            "max_height": null,
            "align_content": null,
            "visibility": null,
            "align_self": null,
            "height": null,
            "min_height": null,
            "padding": null,
            "grid_auto_rows": null,
            "grid_gap": null,
            "max_width": null,
            "order": null,
            "_view_module_version": "1.2.0",
            "grid_template_areas": null,
            "object_position": null,
            "object_fit": null,
            "grid_auto_columns": null,
            "margin": null,
            "display": null,
            "left": null
          }
        },
        "59845876e4f74e3fbd19f1c44a4980d6": {
          "model_module": "@jupyter-widgets/controls",
          "model_name": "HTMLModel",
          "model_module_version": "1.5.0",
          "state": {
            "_view_name": "HTMLView",
            "style": "IPY_MODEL_89b41e46f71a48a285923a103a723147",
            "_dom_classes": [],
            "description": "",
            "_model_name": "HTMLModel",
            "placeholder": "​",
            "_view_module": "@jupyter-widgets/controls",
            "_model_module_version": "1.5.0",
            "value": "100%",
            "_view_count": null,
            "_view_module_version": "1.5.0",
            "description_tooltip": null,
            "_model_module": "@jupyter-widgets/controls",
            "layout": "IPY_MODEL_c08423c171ec460887c38510e231f89e"
          }
        },
        "3a3acad10be44f5bb6e34e65b8379e3c": {
          "model_module": "@jupyter-widgets/controls",
          "model_name": "FloatProgressModel",
          "model_module_version": "1.5.0",
          "state": {
            "_view_name": "ProgressView",
            "style": "IPY_MODEL_e93a35bacde64b07b84602abee1553f0",
            "_dom_classes": [],
            "description": "",
            "_model_name": "FloatProgressModel",
            "bar_style": "success",
            "max": 50,
            "_view_module": "@jupyter-widgets/controls",
            "_model_module_version": "1.5.0",
            "value": 50,
            "_view_count": null,
            "_view_module_version": "1.5.0",
            "orientation": "horizontal",
            "min": 0,
            "description_tooltip": null,
            "_model_module": "@jupyter-widgets/controls",
            "layout": "IPY_MODEL_0074734e81b34065b3c27477cf5e9440"
          }
        },
        "97ecbf4aff244d758ee6eeb91b13a435": {
          "model_module": "@jupyter-widgets/controls",
          "model_name": "HTMLModel",
          "model_module_version": "1.5.0",
          "state": {
            "_view_name": "HTMLView",
            "style": "IPY_MODEL_07938fc5836b4a83b0df151a6711417f",
            "_dom_classes": [],
            "description": "",
            "_model_name": "HTMLModel",
            "placeholder": "​",
            "_view_module": "@jupyter-widgets/controls",
            "_model_module_version": "1.5.0",
            "value": " 50/50 [04:10&lt;00:00,  5.01s/it]",
            "_view_count": null,
            "_view_module_version": "1.5.0",
            "description_tooltip": null,
            "_model_module": "@jupyter-widgets/controls",
            "layout": "IPY_MODEL_7c314dddf4194545b487dc8934646444"
          }
        },
        "89b41e46f71a48a285923a103a723147": {
          "model_module": "@jupyter-widgets/controls",
          "model_name": "DescriptionStyleModel",
          "model_module_version": "1.5.0",
          "state": {
            "_view_name": "StyleView",
            "_model_name": "DescriptionStyleModel",
            "description_width": "",
            "_view_module": "@jupyter-widgets/base",
            "_model_module_version": "1.5.0",
            "_view_count": null,
            "_view_module_version": "1.2.0",
            "_model_module": "@jupyter-widgets/controls"
          }
        },
        "c08423c171ec460887c38510e231f89e": {
          "model_module": "@jupyter-widgets/base",
          "model_name": "LayoutModel",
          "model_module_version": "1.2.0",
          "state": {
            "_view_name": "LayoutView",
            "grid_template_rows": null,
            "right": null,
            "justify_content": null,
            "_view_module": "@jupyter-widgets/base",
            "overflow": null,
            "_model_module_version": "1.2.0",
            "_view_count": null,
            "flex_flow": null,
            "width": null,
            "min_width": null,
            "border": null,
            "align_items": null,
            "bottom": null,
            "_model_module": "@jupyter-widgets/base",
            "top": null,
            "grid_column": null,
            "overflow_y": null,
            "overflow_x": null,
            "grid_auto_flow": null,
            "grid_area": null,
            "grid_template_columns": null,
            "flex": null,
            "_model_name": "LayoutModel",
            "justify_items": null,
            "grid_row": null,
            "max_height": null,
            "align_content": null,
            "visibility": null,
            "align_self": null,
            "height": null,
            "min_height": null,
            "padding": null,
            "grid_auto_rows": null,
            "grid_gap": null,
            "max_width": null,
            "order": null,
            "_view_module_version": "1.2.0",
            "grid_template_areas": null,
            "object_position": null,
            "object_fit": null,
            "grid_auto_columns": null,
            "margin": null,
            "display": null,
            "left": null
          }
        },
        "e93a35bacde64b07b84602abee1553f0": {
          "model_module": "@jupyter-widgets/controls",
          "model_name": "ProgressStyleModel",
          "model_module_version": "1.5.0",
          "state": {
            "_view_name": "StyleView",
            "_model_name": "ProgressStyleModel",
            "description_width": "",
            "_view_module": "@jupyter-widgets/base",
            "_model_module_version": "1.5.0",
            "_view_count": null,
            "_view_module_version": "1.2.0",
            "bar_color": null,
            "_model_module": "@jupyter-widgets/controls"
          }
        },
        "0074734e81b34065b3c27477cf5e9440": {
          "model_module": "@jupyter-widgets/base",
          "model_name": "LayoutModel",
          "model_module_version": "1.2.0",
          "state": {
            "_view_name": "LayoutView",
            "grid_template_rows": null,
            "right": null,
            "justify_content": null,
            "_view_module": "@jupyter-widgets/base",
            "overflow": null,
            "_model_module_version": "1.2.0",
            "_view_count": null,
            "flex_flow": null,
            "width": null,
            "min_width": null,
            "border": null,
            "align_items": null,
            "bottom": null,
            "_model_module": "@jupyter-widgets/base",
            "top": null,
            "grid_column": null,
            "overflow_y": null,
            "overflow_x": null,
            "grid_auto_flow": null,
            "grid_area": null,
            "grid_template_columns": null,
            "flex": null,
            "_model_name": "LayoutModel",
            "justify_items": null,
            "grid_row": null,
            "max_height": null,
            "align_content": null,
            "visibility": null,
            "align_self": null,
            "height": null,
            "min_height": null,
            "padding": null,
            "grid_auto_rows": null,
            "grid_gap": null,
            "max_width": null,
            "order": null,
            "_view_module_version": "1.2.0",
            "grid_template_areas": null,
            "object_position": null,
            "object_fit": null,
            "grid_auto_columns": null,
            "margin": null,
            "display": null,
            "left": null
          }
        },
        "07938fc5836b4a83b0df151a6711417f": {
          "model_module": "@jupyter-widgets/controls",
          "model_name": "DescriptionStyleModel",
          "model_module_version": "1.5.0",
          "state": {
            "_view_name": "StyleView",
            "_model_name": "DescriptionStyleModel",
            "description_width": "",
            "_view_module": "@jupyter-widgets/base",
            "_model_module_version": "1.5.0",
            "_view_count": null,
            "_view_module_version": "1.2.0",
            "_model_module": "@jupyter-widgets/controls"
          }
        },
        "7c314dddf4194545b487dc8934646444": {
          "model_module": "@jupyter-widgets/base",
          "model_name": "LayoutModel",
          "model_module_version": "1.2.0",
          "state": {
            "_view_name": "LayoutView",
            "grid_template_rows": null,
            "right": null,
            "justify_content": null,
            "_view_module": "@jupyter-widgets/base",
            "overflow": null,
            "_model_module_version": "1.2.0",
            "_view_count": null,
            "flex_flow": null,
            "width": null,
            "min_width": null,
            "border": null,
            "align_items": null,
            "bottom": null,
            "_model_module": "@jupyter-widgets/base",
            "top": null,
            "grid_column": null,
            "overflow_y": null,
            "overflow_x": null,
            "grid_auto_flow": null,
            "grid_area": null,
            "grid_template_columns": null,
            "flex": null,
            "_model_name": "LayoutModel",
            "justify_items": null,
            "grid_row": null,
            "max_height": null,
            "align_content": null,
            "visibility": null,
            "align_self": null,
            "height": null,
            "min_height": null,
            "padding": null,
            "grid_auto_rows": null,
            "grid_gap": null,
            "max_width": null,
            "order": null,
            "_view_module_version": "1.2.0",
            "grid_template_areas": null,
            "object_position": null,
            "object_fit": null,
            "grid_auto_columns": null,
            "margin": null,
            "display": null,
            "left": null
          }
        }
      }
    }
  },
  "cells": [
    {
      "cell_type": "markdown",
      "metadata": {
        "id": "view-in-github",
        "colab_type": "text"
      },
      "source": [
        "<a href=\"https://colab.research.google.com/github/vskokov/py525/blob/main/In_Class_Random_Numbers_generation_and_tests.ipynb\" target=\"_parent\"><img src=\"https://colab.research.google.com/assets/colab-badge.svg\" alt=\"Open In Colab\"/></a>"
      ]
    },
    {
      "cell_type": "markdown",
      "metadata": {
        "id": "eZTy_U8U1XKa"
      },
      "source": [
        "Names: \n"
      ]
    },
    {
      "cell_type": "markdown",
      "metadata": {
        "id": "0aU9ctwqs0Fg"
      },
      "source": [
        "# Random numbers #\n",
        "\n",
        "In order to simulate the Ising model numerically we will use the so-called Monte Carlo (MC) calculations.\n",
        "\n",
        "We define a sequence $r_1, r_2, \\ldots$  as random if there are no correlations among the numbers. Yet\n",
        "being random does not mean that all the numbers in the sequence are equally likely to occur.\n",
        "If all the numbers in a sequence are equally likely to occur, then the sequence is said to be\n",
        "uniform, and the numbers can be random as well. To illustrate, 1, 2, 3, 4, $\\ldots$ is uniform but\n",
        "not random. Further, it is possible to have a sequence of numbers that, in some sense,\n",
        "are random but have very short-range correlations among themselves, for example,\n",
        "$r_1,(1-r_1),r_2,(1-r_2),r_3,(1-r_3), \\ldots$ have short-range but not long-range correlations. \n",
        "\n",
        "\n",
        "Mathematically, the likelihood of a number occurring is described by a distribution function\n",
        "$P(r)$; where $P(r) dr$ is the probability of finding $r$ in the interval $[r, r + dr]$. A uniform\n",
        "distribution means that $P(r) =$ a constant. The standard random-number generator on computers\n",
        "generates uniform distributions between 0 and 1. In other random words, the standard\n",
        "random-number generator outputs numbers in this interval, each with an equal probability yet\n",
        "each independent of the previous number. \n",
        "\n",
        "\n",
        "By the nature of their construction, computers are deterministic and so cannot create a\n",
        "random sequence. Thus computed random number sequences must\n",
        "contain correlations and in this way are not truly random. Although it may be a bit of work,\n",
        "if we know $r_m$ and its preceding elements, it is always possible to figure out $r_{m+1}$. For this\n",
        "reason, computers are said to generate pseudorandom numbers (yet \"pseudo\" is often not mentioned). While more sophisticated generators do a\n",
        "better job at hiding the correlations, experience shows that if you look hard enough or use\n",
        "these numbers long enough, you will notice correlations. A primitive alternative to generating\n",
        "random numbers is to read in a table of true random numbers determined by naturally random\n",
        "processes such as radioactive decay or to connect the computer to an experimental device that\n",
        "measures random events. This alternative is not good for production work but may be a useful\n",
        "check in times of doubt."
      ]
    },
    {
      "cell_type": "markdown",
      "metadata": {
        "id": "150EUVNltq91"
      },
      "source": [
        "# Random-Number Generation (Algorithms) \n",
        "## Logistic map in the chaotic regime\n",
        "\n",
        "The logistic map in the chaotic regime can be used to generate \n",
        "random numbers. Here we use a modified form of the map \n",
        "\\begin{align}\n",
        "x_{i+1} = \\mu x_i (1 -x_i)\n",
        "\\end{align}\n",
        "\n",
        "Although successive $x_i$’s are correlated, if\n",
        "the population for approximately every sixth generation is examined, the correlation is effectively\n",
        "gone and random numbers result. \n",
        "\n",
        "To make the sequence more uniform, a trigonometric transformation is used:\n",
        "\\begin{align}\n",
        "r_i  = \\frac{1}{\\pi} {\\rm acos} (1-2 x_i)\\,.\n",
        "\\end{align}"
      ]
    },
    {
      "cell_type": "markdown",
      "metadata": {
        "id": "_iuL7yD8uYYc"
      },
      "source": [
        "**P.1** Numerically implement and check that the logistic map in the form above is chaotic for $\\mu=4$. "
      ]
    },
    {
      "cell_type": "code",
      "metadata": {
        "id": "FU0ajW-EutHt"
      },
      "source": [
        "## Your code\n"
      ],
      "execution_count": null,
      "outputs": []
    },
    {
      "cell_type": "markdown",
      "metadata": {
        "id": "AgnL2NizutuY"
      },
      "source": [
        "**P.2** Using the described algorithm generate a random sequence of length  = 50000. Store it in the array called data. "
      ]
    },
    {
      "cell_type": "code",
      "metadata": {
        "id": "CW7wMAiyu-e9"
      },
      "source": [
        "## Your code\n"
      ],
      "execution_count": null,
      "outputs": []
    },
    {
      "cell_type": "markdown",
      "metadata": {
        "id": "RzB0SdpRu_E7"
      },
      "source": [
        "Because the computer’s random numbers are generated according to a definite rule, the numbers\n",
        "in the sequence must be correlated with each other. This can affect a simulation that\n",
        "assumes random events. Therefore it is important to test a random-number generator to\n",
        "obtain a numerical measure of its uniformity and randomness. \n",
        "\n",
        "\n",
        "1. Probably the most obvious, but often neglected, test for randomness and uniformity is\n",
        "to look at the numbers generated. Perform two quick visual tests: \n",
        "\n",
        "* plot the list of random numbers $r_i$ with $r_i$ as ordinate and $i$ as abscissa;\n",
        "* plot the successive pairs $(x_i; y_i) = (r_{i}; r_{i+1})$ (spectral method).\n",
        "```\n",
        "plt.plot(np.array(data)[0::2],np.array(data)[1::2],'.')\n",
        "```\n",
        "* plot the histogram. Suppose we would like to have $N$ bins in the histogramand, hence,\n",
        "the width of every bin is given by $1/N$. We now count the number of elements\n",
        "which lie within bin $k$, i.e. within the interval $[(k -1)/N; k/N]$, and denote this\n",
        "number by $n_k$. The histogram array is given by these numbers times the normalization $N/L$, where $L$ is the length of the random sequence. Plot $n_k \\times (N/L)$ as a function of $k/N$. \n",
        "\n",
        "2. A simple test of uniformity evaluates the $k$-th moment of a distribution\n",
        "\\begin{align}\n",
        "    \\langle x^k \\rangle = \\frac{1}{N} \\sum_{i=1}^N x_i^k.   \n",
        "\\end{align}\n",
        "This moments should approximate the moments of the uniform distribution $P(x)=1$ for $x$ in the range $[0,1]$. **P.3. Derive the $n$-th moment for the uniform distribution.**  The deviation from the exact result should be ${\\cal O} (N^{-1/2})$. \n",
        " If the moments are reproduced **approximately**, the distribution is uniform. If the deviation from the exact results varies as ${\\cal O} (N^{-1/2})$, then the distribution is random. **P.4. Write a code to compute moments and check if they are approximately reproduced.**\n",
        "\n",
        "3. Another simple test determines the near-neighbor correlation in your random sequence\n",
        "by taking sums of products for small $k$ and calculating the correlation function:\n",
        "\\begin{align}\n",
        "    C(k) = \\frac{1}{N} \\sum_{i=1}^N x_i x_{i+k} - \\frac{1}{4}\\,. \n",
        "\\end{align}\n",
        "$C(k)$ is near zero if the random numbers are distributed uniformly and independently. The deviation from zero varies as  ${\\cal O} (N^{-1/2})$ if the distribution if random. **P.5. Write a code to implement this test.**\n",
        "\n",
        "\n",
        "4. One could employ different hypothesis tests, such as the Kolmogorov-Smirnov\n",
        "or $\\chi^2$ tests, to test random numbers. These tests are\n",
        "discussed in numerous books on statistics. We will not cover them in this course. \n",
        "\n"
      ]
    },
    {
      "cell_type": "code",
      "metadata": {
        "id": "A6VgOpK6xZWF"
      },
      "source": [
        "## Your code\n"
      ],
      "execution_count": null,
      "outputs": []
    },
    {
      "cell_type": "markdown",
      "metadata": {
        "id": "_ua96QUzyIfE"
      },
      "source": [
        "**The linear congruent mapping** is the common way of generating a pseudorandom\n",
        "sequence of numbers $0\\le r_i \\le M-1$. To obtain\n",
        "the next random number $r_{i+1}$, you multiply the present random number $r_i$ by the constant $a$,\n",
        "add another constant $c$, take the modulus by $M$, that is \n",
        "\\begin{align}\n",
        "    r_{i+1}  = (a r_i + c)  {\\rm mod}   M  = {\\rm remainder} \\left(  \\frac  {a r_i + c }{ M}  \\right) .\n",
        "\\end{align}\n",
        "The value of $r_0$ (the seed) is frequently supplied by the user; mod is a built-in funciton (\\% in Python).  \n",
        "This is\n",
        "essentially a bit-shift operation that ends up with the least significant part of the input number\n",
        "and thus counts on the randomness of round-off errors to generate a random sequence.\n",
        "\n",
        "For example, if $c=1$, $a=4$, $M=9$ and the seed $r_0=3$, one obtains the sequence \n",
        "* $r_1 = (4\\times 3 +1 )\\ {\\rm mod}\\  9 = 4$,\n",
        "* $r_2 = (4\\times 4 +1 )\\ {\\rm mod}\\ 9 = 8$,\n",
        "* $r_4 = 6$, $r_{5-10} = 7, 2, 0, 1, 5, 3$. \n",
        "\n",
        "We get the sequence of length $M=9$ (also known as the maximum period) after which the entire sequence repeats. \n",
        "If random numbers in the range $[A,B]$ are required, one needs to apply the linear transformation \n",
        "\\begin{align}\n",
        "    x_i = A + (B-A) r_i\\,.\n",
        "\\end{align}\n",
        "\n",
        "The linear congruent mapping  produces integers in the range $[0;M-1]$  and therefore\n",
        "becomes completely correlated if a particular integer comes up a second time (the whole cycle\n",
        "then repeats). In order to obtain a longer sequence, $a$ and $M$ should be large numbers but\n",
        "not so large that $a r_i$ overflows (it would not be an issue in Python)."
      ]
    },
    {
      "cell_type": "markdown",
      "metadata": {
        "id": "PKNl5Yb2yliz"
      },
      "source": [
        "**P.5.** Write code to generate random sequence of length 50000 using the following parameters $a = 2311$, $c=-79$ and $M= 2^{48}$. Initial seed $r_0=11$. Check randomness by \n",
        "* plotting the successive pairs $(x_i; y_i) = (r_{i}; r_{i+1})$\n",
        "* plotting the correlation function "
      ]
    },
    {
      "cell_type": "code",
      "metadata": {
        "id": "KYWJ9P0-zxRb"
      },
      "source": [
        "## your code\n"
      ],
      "execution_count": null,
      "outputs": []
    },
    {
      "cell_type": "markdown",
      "metadata": {
        "id": "0WRvnYG3zx-7"
      },
      "source": [
        "**P.6.** Repeat for the parameters $a = 57$, $c=-2$, $M= 256$ and the initial seed $r_0$ = 10.  "
      ]
    },
    {
      "cell_type": "code",
      "metadata": {
        "id": "0OuRa7mOskiI"
      },
      "source": [
        "## your code\n"
      ],
      "execution_count": null,
      "outputs": []
    },
    {
      "cell_type": "markdown",
      "metadata": {
        "id": "HA-4sBx10ed1"
      },
      "source": [
        "## Multiply with carry\n",
        "This method is very similar to the linear congruent mapping. Consider a pair of integers $(r,c)$ and the iteration function \n",
        "\\begin{align}\n",
        "    (r_{i+1},c_{i+1}) = ( a r_i + c_i \\ {\\rm mod } \\ M, (a r_i + c_i )/M ). \n",
        "\\end{align}\n",
        "For $M=2^{32}$ and a multiplier $a=698769069$ the period of this method is about $2^{60}$. \n",
        "\n",
        "\n",
        "##Complimentary multiply with carry\n",
        "Simple modifications of changing $M$ to  $M=2^{32}-1$ \n",
        "and modifying the iteration to use $(M-1)$-complement\n",
        "\\begin{align}\n",
        "    r_{i+1} =  (M-1) - ( a r_i + c_i \\ {\\rm mod } \\ M) \n",
        "\\end{align}\n",
        "provide random numbers which pass many test and have a very large period. \n",
        "\n",
        "**P.7.** Write code to generate generate random sequence of length 50000 using the following parameters  $a=698769069$ and $M=2^{32}-1$. Implement the same two tests to assess randomeness. Use any $r_0$ and $c_0$ as the intial seed. "
      ]
    },
    {
      "cell_type": "code",
      "metadata": {
        "id": "NXMblPGK1Py1"
      },
      "source": [
        "## your code\n"
      ],
      "execution_count": null,
      "outputs": []
    },
    {
      "cell_type": "markdown",
      "metadata": {
        "id": "FuRndNAHMfHy"
      },
      "source": [
        "P.S. For long calculations one can use the progress bar, see code below. "
      ]
    },
    {
      "cell_type": "code",
      "metadata": {
        "colab": {
          "base_uri": "https://localhost:8080/",
          "height": 49,
          "referenced_widgets": [
            "e1e12fb090d243a49e9b04d98a71a323",
            "4e0d4863d52848698d805eaa855d4d04",
            "59845876e4f74e3fbd19f1c44a4980d6",
            "3a3acad10be44f5bb6e34e65b8379e3c",
            "97ecbf4aff244d758ee6eeb91b13a435",
            "89b41e46f71a48a285923a103a723147",
            "c08423c171ec460887c38510e231f89e",
            "e93a35bacde64b07b84602abee1553f0",
            "0074734e81b34065b3c27477cf5e9440",
            "07938fc5836b4a83b0df151a6711417f",
            "7c314dddf4194545b487dc8934646444"
          ]
        },
        "id": "A9FHeq7UI8QX",
        "outputId": "40f9e481-0f59-4b3a-f5ef-ab6e1ddbc309"
      },
      "source": [
        "from tqdm.auto import tqdm\n",
        "import time \n",
        "\n",
        "for i in tqdm(range(50)):\n",
        "  time.sleep(5)"
      ],
      "execution_count": null,
      "outputs": [
        {
          "output_type": "display_data",
          "data": {
            "application/vnd.jupyter.widget-view+json": {
              "model_id": "e1e12fb090d243a49e9b04d98a71a323",
              "version_minor": 0,
              "version_major": 2
            },
            "text/plain": [
              "  0%|          | 0/50 [00:00<?, ?it/s]"
            ]
          },
          "metadata": {}
        }
      ]
    }
  ]
}