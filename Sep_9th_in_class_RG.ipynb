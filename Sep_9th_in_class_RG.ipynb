{
  "nbformat": 4,
  "nbformat_minor": 0,
  "metadata": {
    "colab": {
      "name": "Sep 9th in class: RG",
      "provenance": [],
      "collapsed_sections": [
        "dhag-DC2wNvG",
        "G7APSo3S1aZi"
      ],
      "authorship_tag": "ABX9TyPtaldE3MHhLxYvzdlk3lnw",
      "include_colab_link": true
    },
    "kernelspec": {
      "name": "python3",
      "display_name": "Python 3"
    }
  },
  "cells": [
    {
      "cell_type": "markdown",
      "metadata": {
        "id": "view-in-github",
        "colab_type": "text"
      },
      "source": [
        "<a href=\"https://colab.research.google.com/github/vskokov/py525/blob/main/Sep_9th_in_class_RG.ipynb\" target=\"_parent\"><img src=\"https://colab.research.google.com/assets/colab-badge.svg\" alt=\"Open In Colab\"/></a>"
      ]
    },
    {
      "cell_type": "markdown",
      "metadata": {
        "id": "dhag-DC2wNvG"
      },
      "source": [
        "# Problem 3.1: Renormalziaiton group equations for different values of the parameter\n",
        "\n",
        "\n",
        "# RG equation, evolution operator \n",
        "$f_{k+1} (x)  = \\alpha_k f_k \\left( f_k \\left(\\frac{x}{\\alpha_k} \\right)\\right)\\, \\quad \\alpha_k = \\frac{1}{f_k(f_k(0))}$ with $f_0(x) = 1 - \\lambda x^2$\n",
        "\n",
        "In the code below we apply the efolution operator to  $k$'s step  \n",
        "\n",
        "$$f_{k} (x)  = \\alpha_{k-1} f_{k-1} \\left( f_{k-1} \\left(\\frac{x}{\\alpha_{k-1}} \\right)\\right)\\, \\quad \n",
        "\\alpha_k = \\frac{1}{f_{k-1}(f_{k-1}(0))}$$\n",
        "\n",
        "\n",
        "\n"
      ]
    },
    {
      "cell_type": "code",
      "metadata": {
        "id": "nWPgQ3_Bwiyf"
      },
      "source": [
        "import matplotlib.pyplot as plt\n",
        "import sys \n",
        "%config InlineBackend.figure_format = 'svg'\n",
        "import numpy as np\n",
        "import math\n",
        "\n",
        "def f(k,x,lamb):\n",
        "    # this is a recursive function (the function which calls itself) returns f_k for given k, x, and lambda \n",
        "    if(k>0):\n",
        "        alpha = 1/f(k-1,f(k-1,0,lamb),lamb)\n",
        "        # result = alpha *  CONTINUE HERE\n",
        "    else: # if k=0 we return f_0\n",
        "        result = 1 - lamb*x*x\n",
        "    return result; \n",
        "\n",
        "def data(k,lamb):\n",
        "    xa = np.arange(-1,1,0.01)\n",
        "    return (xa, np.array([f(k,x,lamb) for x in xa]))"
      ],
      "execution_count": null,
      "outputs": []
    },
    {
      "cell_type": "code",
      "metadata": {
        "id": "EjdtHFwPzUsg"
      },
      "source": [
        "for k in [0,1,2,3,4,5]:\n",
        "    (x,y) = data(k,1.40115518909205060052382-0.001) \n",
        "    plt.plot(x,y)\n",
        "plt.xlabel('$x$')\n",
        "plt.ylabel('$f_k(x)$')"
      ],
      "execution_count": null,
      "outputs": []
    },
    {
      "cell_type": "code",
      "metadata": {
        "id": "REGYAhnWzVoW"
      },
      "source": [
        "for k in [0,1,2,3,4,5]:\n",
        "    (x,y) = data(k,1.40115518909205060052382+0.001) \n",
        "    plt.plot(x,y)\n",
        "plt.xlabel('$x$')\n",
        "plt.ylabel('$f_k(x)$')"
      ],
      "execution_count": null,
      "outputs": []
    },
    {
      "cell_type": "code",
      "metadata": {
        "id": "3D-zmMe-zclS"
      },
      "source": [
        "for k in [0,1,2,3,4,5]:\n",
        "    (x,y) = data(k,1.40115518909205060052382) \n",
        "    plt.plot(x,y)\n",
        "# fixed point solution: g(x)!!!\n",
        "plt.xlabel('$x$')\n",
        "plt.ylabel('$f_k(x)$')"
      ],
      "execution_count": null,
      "outputs": []
    },
    {
      "cell_type": "markdown",
      "metadata": {
        "id": "G7APSo3S1aZi"
      },
      "source": [
        "# RG equation has a fixed point:\n",
        "$$g(x) = \\alpha g(g(x/\\alpha)), \\alpha = 1/g(1)$$\n",
        "\n",
        "Note that by construction $g(0)=1$. \n",
        "\n",
        "Look for the solution performing the Taylor expansion \n",
        "$$g(x) = 1 + \\sum_{i=1}^m g_i x^{2i} $$\n",
        "\n",
        "Find $g_i$ and $\\alpha$.  "
      ]
    },
    {
      "cell_type": "markdown",
      "metadata": {
        "id": "_BNuKdSduUF-"
      },
      "source": [
        "# Problem 3.2: \n",
        "For m=1, that is for the leading order approximation $g(x) = 1 + g_1 x^2$, find $g_1$ and $\\alpha$ **analytically**.  "
      ]
    },
    {
      "cell_type": "markdown",
      "metadata": {
        "id": "527eeB9ZRfdC"
      },
      "source": [
        "Now we check your calculations using sympy: https://docs.sympy.org/latest/index.html"
      ]
    },
    {
      "cell_type": "code",
      "metadata": {
        "colab": {
          "base_uri": "https://localhost:8080/"
        },
        "id": "yq2H3qBFOYbw",
        "outputId": "efa1ea00-f708-46f0-b40f-7f679e93734e"
      },
      "source": [
        "\n",
        "from sympy import * # Symbolic library\n",
        "x, p, y, a, g1 = symbols(\"x, p, y, a, g1\") # instruct python that these are not usual variables\n",
        "\n",
        "print(\"*\"*40)\n",
        "print(\"Some examples of what you can do:\")\n",
        "print(\"Derivative of x**p is\", diff(x**p,x))\n",
        "print(\"Derivative of p**x is\", diff(p**x,x))\n",
        "expr=exp(cos(x))\n",
        "print(\"Taylor seried of exp(cos(x))  is\",expr.series(x,0,6))\n",
        "print(\"Integral of exp(-x^2-y^2) is\", integrate(exp(-x**2 - y**2), (x, -oo, oo), (y, -oo, oo)))\n",
        "\n",
        "print(\"*\"*40)"
      ],
      "execution_count": null,
      "outputs": [
        {
          "output_type": "stream",
          "name": "stdout",
          "text": [
            "****************************************\n",
            "Some examples of what you can do:\n",
            "Derivative of x**p is p*x**p/x\n",
            "Derivative of p**x is p**x*log(p)\n",
            "Taylor seried of exp(cos(x))  is E - E*x**2/2 + E*x**4/6 + O(x**6)\n",
            "Integral of exp(-x^2-y^2) is pi\n",
            "****************************************\n"
          ]
        }
      ]
    },
    {
      "cell_type": "code",
      "metadata": {
        "colab": {
          "base_uri": "https://localhost:8080/"
        },
        "id": "1NnOtWNmTYv5",
        "outputId": "dff63037-ad77-4bc9-ed8a-2cc819ec8dd7"
      },
      "source": [
        "#Lets check if your results is correct: \n",
        "\n",
        "def g(x): \n",
        "  return(1 + g1*x**2 )\n",
        "\n",
        "print(\"Approximation for g(x)=\", g(x))\n",
        "\n",
        "expr = g(g(x/a)) - g(x)/a  # this is the equation we want to solve \n",
        "print(\"Equation to be solved:\", expr, \"=0\")\n",
        "\n",
        "Polynomial = Poly(expr.expand(), x) # convert to the polynomial form \n",
        "print(\"Expanded and collected:\", collect(expr.expand(),x))\n",
        "\n",
        "Coeffs = Polynomial.coeffs() # extract the coefficient of the polynomial \n",
        "print(\"Coefficients in our equation are:\", Coeffs)\n",
        "# Note that we need only x^0 and x^2. Be carefull with the order of the coefficients! The x^0 coefficient is the last one in this list.  \n"
      ],
      "execution_count": null,
      "outputs": [
        {
          "output_type": "stream",
          "name": "stdout",
          "text": [
            "Approximation for g(x)= g1*x**2 + 1\n",
            "Equation to be solved: g1*(1 + g1*x**2/a**2)**2 + 1 - (g1*x**2 + 1)/a =0\n",
            "Expanded and collected: g1 + x**2*(-g1/a + 2*g1**2/a**2) + 1 - 1/a + g1**3*x**4/a**4\n",
            "Coefficients in our equation are: [g1**3/a**4, (-a*g1 + 2*g1**2)/a**2, (a*g1 + a - 1)/a]\n"
          ]
        }
      ]
    },
    {
      "cell_type": "code",
      "metadata": {
        "colab": {
          "base_uri": "https://localhost:8080/"
        },
        "id": "bk479U5LUutc",
        "outputId": "3f5e6329-47cb-4c78-ee53-917aaf8af63b"
      },
      "source": [
        "print(\"*\"*40)\n",
        "print(\"This code returns the numbers in range [-2, 0)\")\n",
        "for all in range(-2,0): \n",
        "  print(all)\n",
        "print(\"*\"*40)\n",
        "\n",
        "print(\"Equations we want to solve are\")\n",
        "for all in range(-2,0):  # cycle over first 2 coefficients; they stored in the reversed order -- this is the reason for the minus sign below \n",
        "  print(\"x^\",len(Coeffs)+all-1,\":\" , Coeffs[all],\"=0\")\n"
      ],
      "execution_count": null,
      "outputs": [
        {
          "output_type": "stream",
          "name": "stdout",
          "text": [
            "****************************************\n",
            "This code returns the numbers in range [-2, 0)\n",
            "-2\n",
            "-1\n",
            "****************************************\n",
            "Equations we want to solve are\n",
            "x^ 0 : (-a*g1 + 2*g1**2)/a**2 =0\n",
            "x^ 1 : (a*g1 + a - 1)/a =0\n"
          ]
        }
      ]
    },
    {
      "cell_type": "code",
      "metadata": {
        "colab": {
          "base_uri": "https://localhost:8080/"
        },
        "id": "EJCVRZnrTlJP",
        "outputId": "8ecf1e6b-4091-4828-f84f-853b70c688d4"
      },
      "source": [
        "from numpy import array  \n",
        "from scipy.optimize import root # to find roots of a nonlinear system of equations   \n",
        "\n",
        "def solver(x):\n",
        "    out = []\n",
        "    for all in range(-2,0):  # cycle over first 2 coefficients; they stored in the reversed order -- this is the reason for the minus sign below \n",
        "      out.append(float(Coeffs[all].subs({g1: x[0], a: x[1]})))\n",
        "    return array(out) \n",
        "\n",
        "sol = root(solver, array([-1.5, -2]), method='hybr', jac = False) # array([-1.5 -2] is the initial approximation for the solution \n",
        "# note that g1<0 and that alpha is also negative. \n",
        "print (sol)\n",
        "print(\"*\"*40)\n",
        "print(\"alpha is \", sol.x[-1])\n",
        "print(\"g1 is \", sol.x[-2])\n",
        "print (\"Compare to your analytical result!\")"
      ],
      "execution_count": null,
      "outputs": [
        {
          "output_type": "stream",
          "name": "stdout",
          "text": [
            "    fjac: array([[-0.51526902,  0.85702849],\n",
            "       [-0.85702849, -0.51526902]])\n",
            "     fun: array([-8.61755112e-13,  1.50546242e-13])\n",
            " message: 'The solution converged.'\n",
            "    nfev: 12\n",
            "     qtf: array([-2.14159678e-09, -2.45632828e-09])\n",
            "       r: array([ 1.22173149,  0.05191711, -0.18994008])\n",
            "  status: 1\n",
            " success: True\n",
            "       x: array([-1.3660254 , -2.73205081])\n",
            "****************************************\n",
            "alpha is  -2.7320508075723535\n",
            "g1 is  -1.3660254037838224\n",
            "Compare to your analytical result!\n"
          ]
        }
      ]
    },
    {
      "cell_type": "markdown",
      "metadata": {
        "id": "9GjSEEJfuyn-"
      },
      "source": [
        "# Problem 3.3: \n",
        "Now we want to increase precision. Write the code to perform these calculations in python for $m=3$. Use the obtained $g_1$ and $\\alpha$ as the initial conditions for finding the solution.   "
      ]
    },
    {
      "cell_type": "code",
      "metadata": {
        "id": "rdLP-WAPqZPv"
      },
      "source": [
        "# your code \n"
      ],
      "execution_count": null,
      "outputs": []
    },
    {
      "cell_type": "markdown",
      "metadata": {
        "id": "3qd4wlQd2Eob"
      },
      "source": [
        "This is still rather rough estimate of $\\alpha$. One needs to go to higher order to get a better estimate. **Consider $m=5$. Find $\\alpha$.**"
      ]
    }
  ]
}