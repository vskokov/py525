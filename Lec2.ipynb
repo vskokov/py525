{
  "nbformat": 4,
  "nbformat_minor": 0,
  "metadata": {
    "colab": {
      "name": "Lec2.ipynb",
      "provenance": [],
      "collapsed_sections": []
    },
    "kernelspec": {
      "name": "python3",
      "display_name": "Python 3"
    }
  },
  "cells": [
    {
      "cell_type": "markdown",
      "metadata": {
        "id": "GjVqSmHH9_pp"
      },
      "source": [
        "# Stability of an iterative algorithm\n",
        "\n",
        "---\n",
        "\n",
        "The golden ratio $\\phi = \\frac{ \\sqrt{5} -1 } {2}$ satisfies the follwing equation: \n",
        "$$\\phi^2 + \\phi  - 1 =0\\,.$$\n",
        "Multiplying this equation by $\\phi^{n-1}$ we obtain the identity\n",
        "$$\\phi^{n+1} =  \\phi^{n-1} - \\phi^{n}\\,.$$\n",
        "Thus we see that $(n+1)$-th power of $\\phi$ is related to $\\phi^{n-1}$ and $\\phi^{n}$ in a very simple way. We can promote this to an iterative algorithm. We call it algortihm A. \n",
        "\n",
        "We compare this with the more common way of computing power:\n",
        "$$\\phi^{n+1} =  \\phi \\times \\phi^{n}\\,.$$ We call it algorithm B. \n",
        "\n",
        "We want to find such an $n$ when the relative error between this two algorithms becomes larger than 10\\%:\n",
        "$$ \\left| \\frac{ \\phi^n_A - \\phi^n_B } { \\phi^n_B } \\right| > 0.1\\,. $$\n",
        "\n",
        "The algorithm A is faster, but unfortunately it is not stable. \n",
        "\n",
        "This is a somewhat artificial example, however, it is a very similar one to finding spherical Bessel functions at a given $x$ using the follwoing recursive relation: \n",
        "$$\n",
        "j_{l+1}(x)   = \\frac{2l+1} {x} j_{l}(x) - j_{l-1}(x)\\,.\n",
        "$$\n",
        "Implementing this will lead to an unstable scheme as well. \n",
        "\n",
        "\n"
      ]
    },
    {
      "cell_type": "code",
      "metadata": {
        "id": "ZSw89YT0UOad",
        "colab": {
          "base_uri": "https://localhost:8080/",
          "height": 663
        },
        "outputId": "0b8a0982-d461-4629-816d-c69b53986688"
      },
      "source": [
        "from numpy import sqrt\n",
        " \n",
        "phi = (sqrt(5.0)-1.0)/2.0\n",
        "phiA_n = phi \n",
        "phiA_n_m_1 = 1.0\n",
        "\n",
        "phiB_n = phi \n",
        "\n",
        "n = 1\n",
        "\n",
        "print ('Initial values', phiA_n, phiB_n)\n",
        "\n",
        "while True:\n",
        "  phiA = phiA_n_m_1 - phiA_n \n",
        "  phiA_n_m_1 = phiA_n\n",
        "  phiA_n = phiA\n",
        "\n",
        "  phiB = phi * phiB_n\n",
        "  phiB_n = phiB \n",
        "\n",
        "  n = n + 1\n",
        "\n",
        "  print (n, phiA, phiB)\n",
        "\n",
        "  if ( abs((phiA - phiB)/phiB) > 0.1):\n",
        "    break "
      ],
      "execution_count": null,
      "outputs": [
        {
          "output_type": "stream",
          "text": [
            "Initial values 0.6180339887498949 0.6180339887498949\n",
            "2 0.3819660112501051 0.3819660112501052\n",
            "3 0.2360679774997898 0.23606797749978975\n",
            "4 0.1458980337503153 0.14589803375031551\n",
            "5 0.09016994374947451 0.09016994374947429\n",
            "6 0.05572809000084078 0.05572809000084125\n",
            "7 0.03444185374863373 0.03444185374863305\n",
            "8 0.021286236252207047 0.021286236252208206\n",
            "9 0.013155617496426686 0.01315561749642485\n",
            "10 0.008130618755780361 0.008130618755783357\n",
            "11 0.005024998740646325 0.005024998740641495\n",
            "12 0.0031056200151340363 0.003105620015141862\n",
            "13 0.0019193787255122885 0.0019193787254996341\n",
            "14 0.0011862412896217478 0.0011862412896422286\n",
            "15 0.0007331374358905407 0.000733137435857406\n",
            "16 0.0004531038537312071 0.00045310385378482284\n",
            "17 0.0002800335821593336 0.00028003358207258323\n",
            "18 0.0001730702715718735 0.00017307027171223967\n",
            "19 0.00010696331058746011 0.00010696331036034358\n",
            "20 6.610696098441338e-05 6.61069613518961e-05\n",
            "21 4.085634960304674e-05 4.085634900844749e-05\n",
            "22 2.525061138136664e-05 2.5250612343448615e-05\n",
            "23 1.56057382216801e-05 1.560573666499888e-05\n",
            "24 9.64487315968654e-06 9.64487567844974e-06\n",
            "25 5.960865061993559e-06 5.960860986549141e-06\n",
            "26 3.684008097692981e-06 3.6840146919005996e-06\n",
            "27 2.2768569643005776e-06 2.2768462946485426e-06\n",
            "28 1.4071511333924036e-06 1.4071683972520572e-06\n",
            "29 8.69705830908174e-07 8.696778973964855e-07\n",
            "30 5.374453024842296e-07 5.374904998555718e-07\n",
            "31 3.322605284239444e-07 3.321873975409138e-07\n",
            "32 2.0518477406028524e-07 2.05303102314658e-07\n",
            "33 1.2707575436365914e-07 1.2688429522625587e-07\n",
            "34 7.810901969662609e-08 7.841880708840217e-08\n",
            "35 4.896673466703305e-08 4.846548813785372e-08\n",
            "36 2.914228502959304e-08 2.995331895054845e-08\n",
            "37 1.982444963744001e-08 1.8512169187305277e-08\n",
            "38 9.317835392153029e-09 1.144114976324318e-08\n"
          ],
          "name": "stdout"
        }
      ]
    },
    {
      "cell_type": "code",
      "metadata": {
        "id": "ge6VIxuPVq_w"
      },
      "source": [
        ""
      ],
      "execution_count": null,
      "outputs": []
    }
  ]
}