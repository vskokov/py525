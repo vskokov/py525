{
  "nbformat": 4,
  "nbformat_minor": 0,
  "metadata": {
    "colab": {
      "name": "In-class: 1d Ising",
      "provenance": [],
      "collapsed_sections": [],
      "authorship_tag": "ABX9TyOURFEztgXNHskc8lhCXUHM",
      "include_colab_link": true
    },
    "kernelspec": {
      "name": "python3",
      "display_name": "Python 3"
    },
    "language_info": {
      "name": "python"
    }
  },
  "cells": [
    {
      "cell_type": "markdown",
      "metadata": {
        "id": "view-in-github",
        "colab_type": "text"
      },
      "source": [
        "<a href=\"https://colab.research.google.com/github/vskokov/py525/blob/main/In_class_1d_Ising.ipynb\" target=\"_parent\"><img src=\"https://colab.research.google.com/assets/colab-badge.svg\" alt=\"Open In Colab\"/></a>"
      ]
    },
    {
      "cell_type": "markdown",
      "metadata": {
        "id": "E4PuaW-lH_RW"
      },
      "source": [
        "# 1D Ising model \n",
        "\n",
        "\n",
        "The energy of the Ising model for a given configurations of spins is given by \n",
        "\\begin{align}\n",
        "{\\cal H} = - J \\sum_{\\langle i,j \\rangle} S_i S_j - h \\sum_i S_i \\,.  \n",
        "\\end{align}\n",
        "Here $\\langle i,j \\rangle$ denotes the summation over all nearest-neighbor pairs  (in 1d, it is simply \n",
        "$\n",
        "\\sum_{\\langle i,j \\rangle} S_i S_j = \\sum_i S_i S_{i+1}\n",
        "$)\n",
        "and $h$ is the external field. We consider a ferromagnet with $J>0$. We  measure $T$ and $h$ in the units of $J$. In other words, we set $J=1$.  \n",
        "\n",
        "In the thermodynamic equilibrium, given a particular spin configuration ${\\cal C}$, the probability of finding the system \n",
        "in this configuration is given by the Boltzmann distribution \n",
        "\\begin{align}\n",
        "    p({\\cal C})  = \\frac1{Z} \\exp \\left [  - \\frac{{\\cal H} ({\\cal C})} { T }\\right]\\,.\n",
        "\\end{align}\n",
        "\n",
        "\n",
        "The problem is to evaluate the average energy, magnetization, and the specific heat **per spin** as defined below: \n",
        "\\begin{align}\n",
        "  \\epsilon = \\frac{1}{N} \\langle E \\rangle  = \\frac{1}{N} \\sum_{\\cal C} {\\cal H} ({\\cal C}) p({\\cal C})  \\,, \n",
        "\\end{align} \n",
        "\\begin{align}\n",
        "   m = \\frac{1}{N} \\langle M \\rangle  = \\frac{1}{N} \\sum_{\\cal C} {\\cal M} ({\\cal C}) p({\\cal C})   \\,,\n",
        "\\end{align}\n",
        "\\begin{align}\n",
        "   c_v = \\frac{1}{N T^2}  \\left( \\langle E^2 \\rangle - \\langle E \\rangle^2 \\right)  \\,.\n",
        "\\end{align}\n",
        "\n",
        "For instance, the estimate of the\n",
        "energy expectation value is given by\n",
        "\\begin{align}\n",
        "    \\langle E\\rangle = \\frac{1}{M} \\sum_{i=1}^M {\\cal H}({\\cal C}_i) \\pm \\sqrt{\\frac{{\\rm var} (E)} {M} },   \n",
        "\\end{align}\n",
        "where ${\\cal C}_i$, $i=1, \\ldots, M$ are $M$ configurations drawn from the pdf -- the Boltzmann distribution. Hence, we have to  find configurations  which follow the\n",
        "Boltzmann distribution. The inverse transformation method cannot be applied since ${\\cal H} ({\\cal C}_i)$ is not invertable. Furthermore, the rejection method is useless since we would need the partition function $Z$ to make it work. However,\n",
        "calculating the partition function is a task as difficult as calculating the internal\n",
        "energy without any approximations. Therefore, the method of choice will\n",
        "be the Metropolis algorithm. \n",
        "\n",
        "##Algorithmic steps: \n",
        "\n",
        "1. Choose an initial configuration. \n",
        "2. Randomly choose a lattice site. Suppose we work with the $i$-th spin and our current configuration is $C_k$ ($k$ configurations have been\n",
        "accepted so far).  Generate a new configuration $C'$ from $C_k$ by replacing in $C_k$ the entry $S_{i}$ by $-S_{i}$. \n",
        "3. The new configuration is accepted with probability\n",
        "    \\begin{align}\n",
        "        P(A| {\\cal C}',{\\cal C}_k) =  { min} \\left( \\exp \\left[  - \\frac {\\Delta E_{i} }{T} \\right], 1 \\right).  \n",
        "    \\end{align}\n",
        "Here \n",
        "\\begin{align}\n",
        "    \\Delta E_{i}  = 2 J S_{i}  (S_{i-1} + S_{i+1}) + 2 h S_{i}\n",
        "\\end{align}\n",
        "with $S_{i}$ being the *original* spin orientation. \n",
        "${\\cal C}'$ is accepted if $P(A| {\\cal C}', {\\cal C})$ is equal to 1 \n",
        "or if $P(A| {\\cal C}',{\\cal C}_k)\\ge r \\in [0,1]$. Otherwise ${\\cal C}'$ is rejected. If ${\\cal C}'$ is accepted we set ${\\cal C}_{k+1} = {\\cal C}'$. \n",
        "4. Go to the next lattice site, i.e. step 2.  \n",
        "\n",
        "##How to choose the initial configuration: \n",
        "\n",
        " A particularly useful method is to start the algorithm with at least two different configurations. As soon as equilibrium has been reached, the observables should approach the same saturation values after a certain (finite) number of measurements. Typical choices are the *cold* start and the *hot* start. Cold start means that the temperature is initially below the critical temperature, i.e. in the Ising model all spins are aligned (ferromagnetic state). Hot start means that the temperature is well above the critical temperature and for the Ising model the spin orientation is chosen at random for any site (paramagnetic state).\n",
        "\n",
        "## Measurements\n",
        "\n",
        "As soon as thermalization was achieved the procedure to measure interesting\n",
        "observables can be started. Such a procedure consists of collecting the data required\n",
        "and in calculating expectation values.  There is one crucial point one should be aware of:\n",
        "that subsequent configurations ${\\cal C}_k$ may be strongly correlated. This problem can be\n",
        "circumvented by simply neglecting intermediate configurations. For instance, one\n",
        "may allow a couple or more of 'empty' sweeps between two measurements. This can be optimized by analyzing the auto-correlation time. \n",
        "   "
      ]
    },
    {
      "cell_type": "code",
      "metadata": {
        "id": "OwHDcCu8H-nC"
      },
      "source": [
        "import matplotlib.pyplot as plt\n",
        "import numpy as np\n",
        "import random \n",
        "from numba import jit # we will have to use numba to increase computing speed \n",
        "\n",
        "N = 100 #Number of spins \n",
        "\n",
        "@jit(nopython=True)\n",
        "def pbc(i):\n",
        "  \"\"\" \n",
        "  Periodic boundary conditions:\n",
        "  \"\"\" \n",
        "  return i % N \n",
        "\n",
        "@jit(nopython=True)\n",
        "def sign(x):\n",
        "  \"\"\" \n",
        "  Sign function:\n",
        "  \"\"\" \n",
        "  if (x<0):\n",
        "     return -1 \n",
        "  return  1 \n",
        "\n",
        "@jit(nopython=True)\n",
        "def magnetization(S):  # Here S is array of spins, e.g. S=[1,-1,1,1,1,-1];\n",
        "  \"\"\" \n",
        "  Total magnetization \n",
        "  \"\"\"\n",
        "  return np.sum(S) \n",
        "\n",
        "@jit(nopython=True)\n",
        "def energy_density(S,h):\n",
        "  \"\"\" \n",
        "  Energy density per spin \n",
        "  \"\"\" \n",
        "  nearneigh = [S[i]*S[i+1] for i in range(N-1)] # - J * sum_{<ij>} S_i S_j \n",
        "  nearneigh = nearneigh + [S[N-1]*S[0]]\n",
        "  nearneigh_arr = np.array(nearneigh)\n",
        "  mag_int = -h*magnetization(S)\n",
        "  return (-np.sum(nearneigh)+mag_int)/N\n",
        "\n",
        "@jit(nopython=True)\n",
        "def deltaE (S, i, h): # \\Delta E_i =  ... \n",
        "  # Your code here; make sure to modify return statement below \n",
        "  return 0 \n",
        "\n",
        "@jit(nopython=True)\n",
        "def mc_step(S, T, h):\n",
        "  \"\"\" \n",
        "  Performes one MC step; returns True if the trial configuration is accepted \n",
        "  T is the temperature\n",
        "  h is the magnetic field\n",
        "  J=1\n",
        "  \"\"\" \n",
        "  site = random.randint(0, N-1) # we will pick the spin randomly \n",
        "  dE = deltaE (S, site, h) \n",
        "  acc_prob  =  1 # REPLACE WITH YOUR CODE HERE !!!!!!!!!!!!!!!!!!\n",
        "  r = random.uniform(0,1)\n",
        "  if (acc_prob>=r):\n",
        "    S[site] = - S[site]\n",
        "    return True\n",
        "  return False \n",
        "\n",
        "@jit(nopython=True)\n",
        "def sweep(S, T, h):\n",
        "  \"\"\" One sweep through the lattice -- usually N attempts to flip spins; here I use 2 N because I choose spins randomly \"\"\"  \n",
        "  for i in range(2*N):\n",
        "    mc_step(S, T, h)\n",
        "\n",
        "@jit(nopython=True)\n",
        "def skip(S, T, h, N=5):\n",
        "  \"\"\" \n",
        "  skip a few (5 by defualt) sweeps for to remove correlations  \n",
        "  \"\"\"\n",
        "  for i in range(N):\n",
        "    sweep(S, T, h)"
      ],
      "execution_count": null,
      "outputs": []
    },
    {
      "cell_type": "markdown",
      "metadata": {
        "id": "EDRYIbiYY4T7"
      },
      "source": [
        "**Problems:**\n",
        "See below for problem 3!\n",
        "\n",
        "1. Numerically compute the energy density, the specific heat (per spin)  as a function of temperature ($T \\in [10^{-2},3]$) for zero magnetic field. Use the cold and hot starts. Show that the system achieves thermalization. Use bootstrap to estimate statistical error.  Compare with the analytical solution (see below). \n",
        "To plot actual error bars modify the following example \n",
        "```\n",
        "x, y, yerr = np.random.rand(3, 10)\n",
        "plt.errorbar(x, y, yerr, fmt='o')\n",
        "```\n",
        "\n",
        "2. Compute the magnetization density for a fixed value of temperature $T=1$ as a function of the magnetic field $h \\in [-3,3]$. Use the cold and hot starts. Show that the system achieves thermalization. Use bootstrap to estimate statistical error.     "
      ]
    },
    {
      "cell_type": "code",
      "metadata": {
        "id": "XxgqxBOP2OBI"
      },
      "source": [
        "#your code"
      ],
      "execution_count": null,
      "outputs": []
    },
    {
      "cell_type": "markdown",
      "metadata": {
        "id": "ZOBuaI93ODEt"
      },
      "source": [
        "# Analytical solution (reminder)\n",
        "\n",
        "The partition function is given by \n",
        "\\begin{equation}\n",
        "Z  =  \\lambda_1^N + \\lambda_2^N\\,.\n",
        "\\end{equation}\n",
        "where the eigen values of the transfer matrix are \n",
        "\\begin{equation}\n",
        "    \\lambda_{1,2}  = \\exp \\left( \\frac{J}{T} \\right) \\cosh \\left( \\frac{h}{T} \\right) \n",
        "    \\pm \n",
        "    \\sqrt{ \\exp \\left( \\frac{2J}{T} \\right) \\sinh^2 \\left( \\frac{h}{T} \\right) + \\exp \\left(  - \\frac{2J}{T} \\right) }\\,.\n",
        "\\end{equation}\n",
        "At large $N$ it is sufficient to consider the largest eigenvalue, i.e. \n",
        "\\begin{equation}\n",
        "Z  \\approx  \\lambda_1^N \\,.\n",
        "\\end{equation}\n",
        "The **energy density** (the energy per spin) \n",
        "\\begin{align}\n",
        "    \\epsilon = \\frac{T^2}{N}  \\frac{\\partial } {\\partial T} \\ln Z \\approx   \n",
        "    \\frac{T^2}{N}  \\frac{\\partial } {\\partial T} \\ln \\lambda_1^N\n",
        "     = T^2  \\frac{\\partial } {\\partial T} \\ln \\lambda_1\\,,\n",
        "\\end{align}\n",
        "At zero magnetic field ($h=0$) one  obtains\n",
        "\\begin{align}\n",
        "    \\epsilon (h=0) =  - \\tanh \\frac{1}{T} \\,.\n",
        "\\end{align}\n",
        "The **specific heat** per spin at zero magnetic field can be found using $c_v = \\partial \\epsilon/ \\partial h$:\n",
        "\\begin{align}\n",
        "    c_v (h=0) =   \\frac{\\text{sech}^2\\left(\\frac{1}{T}\\right)}{T^2} \\,.\n",
        "\\end{align}\n",
        "\n",
        "For the **magnetization** density we have \n",
        "\\begin{align}\n",
        "m \\equiv \\frac{M}{N} =\\frac{ T  \\frac{\\partial } {\\partial h} \\ln Z  }{N} = \n",
        "\\frac{e^{2/T} \\sinh \\left(\\frac{h}{T}\\right)}{\\sqrt{e^{4/T} \\sinh\n",
        "   ^2\\left(\\frac{h}{T}\\right)+1}}\\,. \n",
        "\\end{align}\n"
      ]
    },
    {
      "cell_type": "code",
      "metadata": {
        "colab": {
          "base_uri": "https://localhost:8080/",
          "height": 302
        },
        "id": "9kLGKbvXTfXB",
        "outputId": "c434b10e-a53a-44ca-e41f-8108ef3c687e"
      },
      "source": [
        "#For your convenience \n",
        "T_array = np.linspace(1e-2,3,100)\n",
        "epsilon_array = -np.tanh(1/T_array)\n",
        "plt.plot(T_array,epsilon_array)\n",
        "plt.xlabel(r'$T$');\n",
        "plt.ylabel(r'$\\epsilon$');"
      ],
      "execution_count": null,
      "outputs": [
        {
          "output_type": "display_data",
          "data": {
            "image/png": "[encoded data removed]",
            "text/plain": [
              "<Figure size 432x288 with 1 Axes>"
            ]
          },
          "metadata": {
            "needs_background": "light"
          }
        }
      ]
    },
    {
      "cell_type": "code",
      "metadata": {
        "colab": {
          "base_uri": "https://localhost:8080/",
          "height": 301
        },
        "id": "QU3cdXfPToE8",
        "outputId": "b72a5548-7129-4fda-ce95-78a20173c053"
      },
      "source": [
        "#For your convenience \n",
        "T_array = np.linspace(1e-2,3,100)\n",
        "cv_array = 1/pow(T_array*np.cosh(1/T_array),2)\n",
        "plt.plot(T_array, cv_array)\n",
        "plt.xlabel(r'$T$');\n",
        "plt.ylabel(r'$c_v$');"
      ],
      "execution_count": null,
      "outputs": [
        {
          "output_type": "display_data",
          "data": {
            "image/png": "[encoded data removed]",
            "text/plain": [
              "<Figure size 432x288 with 1 Axes>"
            ]
          },
          "metadata": {
            "needs_background": "light"
          }
        }
      ]
    },
    {
      "cell_type": "markdown",
      "metadata": {
        "id": "4dOK7Ee5tiEY"
      },
      "source": [
        "# Correlation length\n",
        "\n",
        "The most fundamental concept underlying the theory of critical phenomena is that of a correlation\n",
        "length, which is a measure of a typical length-scale of a system. The correlation length can be\n",
        "defined in terms of the correlation function, which in the case of the Ising model is given by\n",
        "\\begin{align}\n",
        "    C_s(r) = C_s(i-j) =  \\langle S_i S_j  \\rangle - \\langle S_i \\rangle^2\\,. \n",
        "\\end{align}\n",
        "The correlation function decays exponentially at long distances, and is given by the so-called\n",
        "Ornstein-Zernicke form\n",
        "\\begin{align}\n",
        "    C_s(r) \\propto \\frac{e^{-r/\\xi}}{r^{d-2}},  \n",
        "\\end{align}\n",
        "where $\\xi$ is the correlation length. \n",
        "\n",
        "**Problems:** \n",
        "\n",
        "3.1. Numerically compute the correlation function for $T=0.5,1,2,3$ and zero magnetic field $h=0$. Use the cold and hot starts. Use bootstrap to estimate statistical errors. Use logarithmic scale for the vertical axis:\n",
        "```\n",
        "plt.yscale('log')\n",
        "```\n",
        "The best way to proceed is to compute the average over the spin-chain: \n",
        "\\begin{align}\n",
        "    C_s(r) = \\frac{1}{N} \\sum_{i}  \\left( \\langle S_i S_{i+r}  \\rangle -  \\langle S_i \\rangle^2 \\right)\\,. \n",
        "\\end{align}\n",
        "\n",
        "3.2. Extract the correlation length for   $T=0.5,1,2,3$ and zero magnetic field $h=0$. \n"
      ]
    },
    {
      "cell_type": "code",
      "metadata": {
        "id": "r-7W3giyztyC"
      },
      "source": [
        "#your code"
      ],
      "execution_count": null,
      "outputs": []
    }
  ]
}